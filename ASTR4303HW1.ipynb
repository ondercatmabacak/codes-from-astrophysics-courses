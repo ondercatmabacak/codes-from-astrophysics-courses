{
 "cells": [
  {
   "cell_type": "markdown",
   "metadata": {},
   "source": [
    "# ASTR4303 HW1 \n",
    "#### By Teddy Walsh"
   ]
  },
  {
   "cell_type": "code",
   "execution_count": 35,
   "metadata": {},
   "outputs": [],
   "source": [
    "import numpy as np\n",
    "import matplotlib.pyplot as plt\n",
    "from astropy import units as u\n",
    "from astropy import constants as c"
   ]
  },
  {
   "cell_type": "markdown",
   "metadata": {},
   "source": [
    "## Plotting for Question 3"
   ]
  },
  {
   "cell_type": "code",
   "execution_count": 31,
   "metadata": {},
   "outputs": [
    {
     "data": {
      "text/plain": [
       "<matplotlib.legend.Legend at 0x1e0c45fdbe0>"
      ]
     },
     "execution_count": 31,
     "metadata": {},
     "output_type": "execute_result"
    },
    {
     "data": {
      "image/png": "[encoded data removed]",
      "text/plain": [
       "<Figure size 432x288 with 1 Axes>"
      ]
     },
     "metadata": {
      "needs_background": "light"
     },
     "output_type": "display_data"
    }
   ],
   "source": [
    "lmda = np.logspace(-7, -5) * u.m\n",
    "v = c.c / lmda\n",
    "T = 5700*u.K\n",
    "Bv = (2*c.h * v**3 / c.c**2) * (1/(np.exp(c.h * v / (c.k_B * T))-1))\n",
    "Blmda = (2*c.h * c.c**2 / lmda**5) * (1/(np.exp(c.h*c.c / (lmda * c.k_B * T))-1))\n",
    "\n",
    "plt.plot(lmda, Bv*10**20.85, label = 'Bv * 10^20.85')\n",
    "plt.plot(lmda, Blmda, label = 'Blmda')\n",
    "plt.xscale('log')\n",
    "#plt.yscale('log')\n",
    "plt.title(\"Planck Functions Vs Wavelength (T = 5700 K)\")\n",
    "plt.xlabel(\"Wavelength (m)\")\n",
    "plt.ylabel(\"B\")\n",
    "plt.legend()"
   ]
  },
  {
   "cell_type": "code",
   "execution_count": 32,
   "metadata": {},
   "outputs": [
    {
     "name": "stdout",
     "output_type": "stream",
     "text": [
      "2.524169960533217 m\n"
     ]
    }
   ],
   "source": [
    "#caclculation for 3.c for lambda from Bv\n",
    "x = c.c *c.h /(10**-6 *c.k_B*T)\n",
    "print(x)"
   ]
  },
  {
   "cell_type": "code",
   "execution_count": 34,
   "metadata": {},
   "outputs": [
    {
     "name": "stdout",
     "output_type": "stream",
     "text": [
      "0.004795922925013112 K m\n"
     ]
    }
   ],
   "source": [
    "# calc for lambda from Bv\n",
    "x1 = c.c * c.h / (3*c.k_B)\n",
    "print(x1)"
   ]
  },
  {
   "cell_type": "markdown",
   "metadata": {},
   "source": [
    "## Question 4 calculations\n",
    "use Saha equation. in pure hydrogen, $n_{II}=n_{e} $\n",
    "\n",
    "So the Saha equation becomes $$\\frac{n_{II}^2}{n_{I}} = \\frac{2U_{II}}{U_{I}} (\\frac{2\\pi m_{e}kT}{h^2})^\\frac{3}{2} e^\\frac{-E_{ion}}{kt}$$"
   ]
  },
  {
   "cell_type": "code",
   "execution_count": 49,
   "metadata": {},
   "outputs": [
    {
     "name": "stdout",
     "output_type": "stream",
     "text": [
      "49952713244673.32 1 / cm3\n"
     ]
    }
   ],
   "source": [
    "T4 = 9000 *u.K\n",
    "Pe = (140 * u.dyn / u.cm**2)\n",
    "ne = (Pe.to(u.Pa) / (c.k_B* T4)).to(1/u.cm**3)\n",
    "U2 = 1\n",
    "U1 = 2\n",
    "E_ion = 13.6 * u.eV \n",
    "nII2_nI = (2*U2/U1) * (2*np.pi*c.m_e*c.k_B* T4 / c.h**2)**(3/2) * np.exp(-E_ion.to(u.J)/(c.k_B* T4))\n",
    "print(nII2_nI.to(u.cm**-3))"
   ]
  },
  {
   "cell_type": "markdown",
   "metadata": {},
   "source": [
    "now we find $n_{I}$ from our answer"
   ]
  },
  {
   "cell_type": "code",
   "execution_count": 51,
   "metadata": {},
   "outputs": [
    {
     "name": "stdout",
     "output_type": "stream",
     "text": [
      "254123837332145.53 1 / cm3\n"
     ]
    }
   ],
   "source": [
    "nI = ne**2 / nII2_nI\n",
    "print(nI.to(u.cm**-3))"
   ]
  },
  {
   "cell_type": "markdown",
   "metadata": {},
   "source": [
    "Finally, $f_{I} = \\frac{n_{I}}{n_{I} + n_{II}} $"
   ]
  },
  {
   "cell_type": "code",
   "execution_count": 52,
   "metadata": {},
   "outputs": [
    {
     "name": "stdout",
     "output_type": "stream",
     "text": [
      "0.6928276842029458\n"
     ]
    }
   ],
   "source": [
    "fI = nI.to(u.cm**-3) / (nI.to(u.cm**-3) + ne.to(u.cm**-3))\n",
    "print(fI)"
   ]
  },
  {
   "cell_type": "code",
   "execution_count": null,
   "metadata": {},
   "outputs": [],
   "source": []
  }
 ],
 "metadata": {
  "kernelspec": {
   "display_name": "Python 3",
   "language": "python",
   "name": "python3"
  },
  "language_info": {
   "codemirror_mode": {
    "name": "ipython",
    "version": 3
   },
   "file_extension": ".py",
   "mimetype": "text/x-python",
   "name": "python",
   "nbconvert_exporter": "python",
   "pygments_lexer": "ipython3",
   "version": "3.8.5"
  }
 },
 "nbformat": 4,
 "nbformat_minor": 4
}
